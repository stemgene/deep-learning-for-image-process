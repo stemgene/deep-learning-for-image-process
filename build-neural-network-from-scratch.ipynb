{
 "cells": [
  {
   "cell_type": "code",
   "execution_count": 1,
   "id": "8e5bb8ee",
   "metadata": {
    "_cell_guid": "b1076dfc-b9ad-4769-8c92-a6c4dae69d19",
    "_uuid": "8f2839f25d086af736a60e9eeb907d3b93b6e0e5",
    "execution": {
     "iopub.execute_input": "2023-01-26T16:22:24.767293Z",
     "iopub.status.busy": "2023-01-26T16:22:24.766731Z",
     "iopub.status.idle": "2023-01-26T16:22:24.777064Z",
     "shell.execute_reply": "2023-01-26T16:22:24.776208Z"
    },
    "papermill": {
     "duration": 0.017095,
     "end_time": "2023-01-26T16:22:24.779256",
     "exception": false,
     "start_time": "2023-01-26T16:22:24.762161",
     "status": "completed"
    },
    "tags": []
   },
   "outputs": [],
   "source": [
    "import numpy as np # linear algebra\n",
    "import pandas as pd # data processing, CSV file I/O (e.g. pd.read_csv)\n",
    "import os\n",
    "# for dirname, _, filenames in os.walk('/kaggle/input'):\n",
    "#     for filename in filenames:\n",
    "#         print(os.path.join(dirname, filename))"
   ]
  },
  {
   "cell_type": "markdown",
   "id": "96e08214",
   "metadata": {
    "papermill": {
     "duration": 0.001191,
     "end_time": "2023-01-26T16:22:24.782252",
     "exception": false,
     "start_time": "2023-01-26T16:22:24.781061",
     "status": "completed"
    },
    "tags": []
   },
   "source": [
    "https://www.youtube.com/watch?v=w8yWXqWQYmU&t=817s\n",
    "\n",
    "![img1](https://github.com/stemgene/deep-learning-for-image-process/blob/main/Create-a-neural-network-from-scratch/image/inputx.png)"
   ]
  }
 ],
 "metadata": {
  "kernelspec": {
   "display_name": "Python 3",
   "language": "python",
   "name": "python3"
  },
  "language_info": {
   "codemirror_mode": {
    "name": "ipython",
    "version": 3
   },
   "file_extension": ".py",
   "mimetype": "text/x-python",
   "name": "python",
   "nbconvert_exporter": "python",
   "pygments_lexer": "ipython3",
   "version": "3.7.12"
  },
  "papermill": {
   "default_parameters": {},
   "duration": 9.126216,
   "end_time": "2023-01-26T16:22:25.404931",
   "environment_variables": {},
   "exception": null,
   "input_path": "__notebook__.ipynb",
   "output_path": "__notebook__.ipynb",
   "parameters": {},
   "start_time": "2023-01-26T16:22:16.278715",
   "version": "2.3.4"
  }
 },
 "nbformat": 4,
 "nbformat_minor": 5
}
